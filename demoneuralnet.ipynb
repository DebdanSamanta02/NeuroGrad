{
 "cells": [
  {
   "cell_type": "markdown",
   "id": "50f79d6f-df2e-4227-98c7-640edfb30c26",
   "metadata": {},
   "source": [
    "### Small Neural Net [4, 4, 1] layer\n",
    "##### using a very small data set"
   ]
  },
  {
   "cell_type": "code",
   "execution_count": 2,
   "id": "71dabd21-05d3-45d9-a64c-2aa3136331b7",
   "metadata": {},
   "outputs": [],
   "source": [
    "from engine.draw import *\n",
    "from engine.grad import *\n",
    "from engine.neuralnet import *"
   ]
  },
  {
   "cell_type": "code",
   "execution_count": 8,
   "id": "b178f796-c4cd-41ba-93a3-c028966c0c8d",
   "metadata": {},
   "outputs": [],
   "source": [
    "xs = [\n",
    "    [2.0, 2.0, -1.0],\n",
    "    [3.0, -1.0, 0.5],\n",
    "    [0.5, 1.0, 1.0],\n",
    "    [1.0, 1.0, -1.0]\n",
    "]\n",
    "ys = [1.0, -1.0, -1.0, 1.0]"
   ]
  },
  {
   "cell_type": "markdown",
   "id": "378c786e",
   "metadata": {},
   "source": [
    "### MLP(no. of inputs, [list of neurons per layer], [list of corresponding activations])"
   ]
  },
  {
   "cell_type": "code",
   "execution_count": 9,
   "id": "4b4fa466-4be5-4b78-afe4-c8873ebcac7e",
   "metadata": {},
   "outputs": [],
   "source": [
    "N = MLP(3, [4, 4, 1], ['relu', 'relu', 'tanh'])"
   ]
  },
  {
   "cell_type": "code",
   "execution_count": 10,
   "id": "e5152ff9-b6cf-496d-a2e3-e07f85185b48",
   "metadata": {},
   "outputs": [
    {
     "name": "stdout",
     "output_type": "stream",
     "text": [
      "Iteration 1: loss = 6.799844166777485\n",
      "Iteration 101: loss = 0.18400335684870717\n",
      "Iteration 201: loss = 0.045428527880376775\n",
      "Iteration 301: loss = 0.02337157049310495\n",
      "Iteration 401: loss = 0.015150592299771901\n",
      "Iteration 501: loss = 0.010996069593496223\n",
      "Iteration 601: loss = 0.008530695838734056\n",
      "Iteration 701: loss = 0.006916297811625794\n",
      "Iteration 801: loss = 0.005784353556067476\n",
      "Iteration 901: loss = 0.004951178628620579\n",
      "Iteration 1001: loss = 0.00431462254805255\n",
      "Iteration 1101: loss = 0.0038138604989837056\n",
      "Iteration 1201: loss = 0.0034105801115454195\n",
      "Iteration 1301: loss = 0.003079454599801536\n",
      "Iteration 1401: loss = 0.0028031344133507153\n",
      "Iteration 1501: loss = 0.0025693564830291584\n",
      "Iteration 1601: loss = 0.0023692201535436136\n",
      "Iteration 1701: loss = 0.002196116711811387\n",
      "Iteration 1801: loss = 0.0020450415137989535\n",
      "Iteration 1901: loss = 0.0019121386567891683\n",
      "Iteration 2000: loss = 0.0017955024111271413\n"
     ]
    }
   ],
   "source": [
    "N.fit(xs, ys, iters = 2000, alpha = 0.01)"
   ]
  },
  {
   "cell_type": "code",
   "execution_count": 11,
   "id": "61c9fbdd-3793-43b5-a433-addff10d609e",
   "metadata": {},
   "outputs": [
    {
     "data": {
      "text/plain": [
       "[Value(data=0.9991829193436457),\n",
       " Value(data=-0.9726119880907215),\n",
       " Value(data=-0.9706902876572342),\n",
       " Value(data=0.9864146542169734)]"
      ]
     },
     "execution_count": 11,
     "metadata": {},
     "output_type": "execute_result"
    }
   ],
   "source": [
    "N.predict(xs)"
   ]
  },
  {
   "cell_type": "code",
   "execution_count": 12,
   "id": "ebc9b4c8-6cb7-44b4-98e6-cf30e136f8a6",
   "metadata": {},
   "outputs": [
    {
     "data": {
      "text/plain": [
       "Value(data=0.001794391674801848)"
      ]
     },
     "execution_count": 12,
     "metadata": {},
     "output_type": "execute_result"
    }
   ],
   "source": [
    "loss = N.squared_error_loss(xs, ys)\n",
    "loss"
   ]
  },
  {
   "cell_type": "code",
   "execution_count": null,
   "id": "bae25325-8a4f-4ba8-a306-b868172696d7",
   "metadata": {},
   "outputs": [],
   "source": []
  }
 ],
 "metadata": {
  "kernelspec": {
   "display_name": "Python 3 (ipykernel)",
   "language": "python",
   "name": "python3"
  },
  "language_info": {
   "codemirror_mode": {
    "name": "ipython",
    "version": 3
   },
   "file_extension": ".py",
   "mimetype": "text/x-python",
   "name": "python",
   "nbconvert_exporter": "python",
   "pygments_lexer": "ipython3",
   "version": "3.10.1"
  }
 },
 "nbformat": 4,
 "nbformat_minor": 5
}
